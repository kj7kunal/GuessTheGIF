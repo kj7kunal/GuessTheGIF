{
 "cells": [
  {
   "cell_type": "markdown",
   "id": "6f3635f5-a15c-47de-8b62-e004c460c11d",
   "metadata": {
    "tags": []
   },
   "source": [
    "# Guess The GIF"
   ]
  },
  {
   "cell_type": "markdown",
   "id": "d38d93f5-600d-4ae5-9211-fcc76b0e09ca",
   "metadata": {
    "tags": []
   },
   "source": [
    "## Imports"
   ]
  },
  {
   "cell_type": "code",
   "execution_count": null,
   "id": "302e8a20-1016-4c42-ba29-b4805797c162",
   "metadata": {},
   "outputs": [],
   "source": [
    "from PIL import Image\n",
    "import glob\n",
    "from text_draw import generate_answer_image"
   ]
  },
  {
   "cell_type": "markdown",
   "id": "5d20c395-defb-4aba-8cfc-37e514eae365",
   "metadata": {
    "tags": []
   },
   "source": [
    "## Paths and Constants"
   ]
  },
  {
   "cell_type": "code",
   "execution_count": null,
   "id": "f0233053-72a9-46e3-b748-5a7b6b7c9831",
   "metadata": {},
   "outputs": [],
   "source": [
    "GIF_PATH = \"./gifs/\"\n",
    "SAVE_PATH = \"./generated/{}.png\"\n",
    "ANSWER_PATH = \"./answers/{}.png\"\n",
    "\n",
    "TOTALFRAMES = 18\n",
    "FRAME_SIZE = (200, 128)"
   ]
  },
  {
   "cell_type": "markdown",
   "id": "6dec5c5a-2efb-4f18-90a5-7da59bd40e89",
   "metadata": {
    "tags": []
   },
   "source": [
    "## GIF -> Fixed-length Sprite Sheets\n",
    "- Equally spaced frames selected to ensure smooth animation without irregular jumps\n",
    "- GIF frames stacked vertically to allow more frames with less loss"
   ]
  },
  {
   "cell_type": "code",
   "execution_count": null,
   "id": "2634ec3e-86b4-494e-be04-e204659b5f61",
   "metadata": {},
   "outputs": [],
   "source": [
    "gif_files = sorted(glob.glob(GIF_PATH + '*.gif'))\n",
    "len(gif_files)"
   ]
  },
  {
   "cell_type": "markdown",
   "id": "edfcd0fe-1fba-4947-a139-7680d556f01a",
   "metadata": {
    "tags": []
   },
   "source": [
    "### Equally spaced frame indices"
   ]
  },
  {
   "cell_type": "code",
   "execution_count": null,
   "id": "582138f6-3def-4583-84c7-d29f73a09c2c",
   "metadata": {},
   "outputs": [],
   "source": [
    "frame_selector = lambda n, m: [i*n//m + n//(2*m) for i in range(m)]"
   ]
  },
  {
   "cell_type": "markdown",
   "id": "1a9668ee-6306-42ca-8177-8b41876dff6d",
   "metadata": {
    "tags": []
   },
   "source": [
    "### Process all gifs"
   ]
  },
  {
   "cell_type": "code",
   "execution_count": null,
   "id": "3be1f0e8-ce2c-4766-bf32-b17ad6c721cc",
   "metadata": {},
   "outputs": [],
   "source": [
    "for fn in gif_files:\n",
    "    # get random doodle of class\n",
    "    print(f\"\\nProcessing GIF from {fn}.\")\n",
    "\n",
    "    gif = Image.open(fn)\n",
    "    # number of frames for gif\n",
    "    n_frames = gif.n_frames\n",
    "    \n",
    "    # list of selected frames\n",
    "    selected_frames = frame_selector(n_frames, TOTALFRAMES)\n",
    "\n",
    "    # initialize empty PIL Images\n",
    "    gif_sprite = Image.new(\"RGB\", (FRAME_SIZE[0], TOTALFRAMES * FRAME_SIZE[1]), color=(255,255,255))\n",
    "    frame_image = Image.new(\"RGB\", gif.size, color=(255,255,255))\n",
    "    \n",
    "    ycoord = 0\n",
    "    for frame in selected_frames:\n",
    "        gif.seek(frame)\n",
    "        frame_image.paste(gif)\n",
    "        gif_sprite.paste(frame_image.resize(FRAME_SIZE, Image.ANTIALIAS).convert('RGB'), (0, ycoord))\n",
    "        ycoord += FRAME_SIZE[1]\n",
    "        \n",
    "    if (ycoord // FRAME_SIZE[1]) == TOTALFRAMES:\n",
    "        gif_sprite.save(SAVE_PATH.format(fn.split('/')[-1][:-4]))\n"
   ]
  },
  {
   "cell_type": "code",
   "execution_count": null,
   "id": "e0371dbd-c16e-4317-9f37-0d145eac11f9",
   "metadata": {},
   "outputs": [],
   "source": [
    "sprites = sorted(glob.glob(SAVE_PATH.format('*')))\n",
    "len(sprites)"
   ]
  },
  {
   "cell_type": "markdown",
   "id": "d83e0f7e-0d82-40b1-99b6-02cca959a139",
   "metadata": {
    "tags": []
   },
   "source": [
    "## Sprite Sheets -> Sprite Grid\n",
    "- 11 sprite sheets per sprite grid\n",
    "- 11 = ⌊ 18 * 128 / 200 ⌋ = ⌊ TOTALFRAMES * FRAME_HEIGHT / FRAME_WIDTH ⌋"
   ]
  },
  {
   "cell_type": "code",
   "execution_count": null,
   "id": "bdf26326-427b-4cca-9a43-7788677bf750",
   "metadata": {},
   "outputs": [],
   "source": [
    "N_MERGE = 11"
   ]
  },
  {
   "cell_type": "code",
   "execution_count": null,
   "id": "29b5c678-5075-4059-88c2-0e458d17b303",
   "metadata": {},
   "outputs": [],
   "source": [
    "# Repeat sprites to make multiple of 11\n",
    "sprites += [sprites[7], sprites[45], sprites[70], sprites[72]]\n",
    "assert len(sprites)//11 == 0, \"Number of sprites should be a multiple of 11\""
   ]
  },
  {
   "cell_type": "code",
   "execution_count": null,
   "id": "53b49961-756b-444b-ac10-26b63b03ef2a",
   "metadata": {},
   "outputs": [],
   "source": [
    "with open(\"./gifs/gif_names.txt\", \"r\") as f:\n",
    "    gif_names = [x.strip() for x in f.readlines()]\n",
    "len(gif_names), gif_names[0]"
   ]
  },
  {
   "cell_type": "code",
   "execution_count": null,
   "id": "93f06837-33a3-4183-85df-37d261a2abd1",
   "metadata": {},
   "outputs": [],
   "source": [
    "ct = 0\n",
    "for i in range(len(sprites) // N_MERGE):\n",
    "    print(i, ct)\n",
    "    merged_sprite = Image.new(\"RGB\", (FRAME_SIZE[0] * N_MERGE, TOTALFRAMES * FRAME_SIZE[1]), color=(255,255,255))\n",
    "    xcoord = 0\n",
    "    \n",
    "    for x in sprites[i*N_MERGE: (i+1)*N_MERGE]:\n",
    "        im = Image.open(x)\n",
    "        merged_sprite.paste(im, (xcoord, 0))\n",
    "        xcoord += FRAME_SIZE[0]\n",
    "        \n",
    "        # save answer image\n",
    "        generate_answer_image(gif_names[int(x.split('/')[-1][1:-4]) - 1], ct, ANSWER_PATH)\n",
    "        \n",
    "        ct += 1\n",
    "    \n",
    "    # save sprite grid\n",
    "    merged_sprite.save(f\"./chosen_{i}.png\")\n",
    "    \n",
    "    # save sprite grid resized to maximum of (1024 x 1024) as per SparkAR guidelines\n",
    "    merged_sprite.resize((merged_sprite.size[0]*1024//merged_sprite.size[1], 1024), Image.ANTIALIAS).save(f\"./chosen_{i}_1024.png\")"
   ]
  },
  {
   "cell_type": "code",
   "execution_count": null,
   "id": "b2d1314d-74a9-4ab9-ab2e-315279403d6d",
   "metadata": {},
   "outputs": [],
   "source": []
  }
 ],
 "metadata": {
  "kernelspec": {
   "display_name": "Python 3 (ipykernel)",
   "language": "python",
   "name": "python3"
  },
  "language_info": {
   "codemirror_mode": {
    "name": "ipython",
    "version": 3
   },
   "file_extension": ".py",
   "mimetype": "text/x-python",
   "name": "python",
   "nbconvert_exporter": "python",
   "pygments_lexer": "ipython3",
   "version": "3.8.12"
  }
 },
 "nbformat": 4,
 "nbformat_minor": 5
}
